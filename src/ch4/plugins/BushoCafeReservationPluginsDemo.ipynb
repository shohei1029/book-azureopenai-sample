{
 "cells": [
  {
   "cell_type": "markdown",
   "id": "1dd55b42",
   "metadata": {},
   "source": [
    "# 武将カフェ検索＆予約プラグインデモ(Python)\n",
    "\n",
    "## Setup\n",
    "以下のプラグインを起動する。\n",
    "- cafe-review-plugin\n",
    "- restaurant-reservation-plugin\n",
    "\n",
    "それぞれのプラグインディレクトリに入って、以下を実行します。\n",
    "\n",
    "```bash\n",
    "pip install -r requirements.txt\n",
    "```\n",
    "\n",
    "ライブラリのインストールができたら、\n",
    "\n",
    "```bash\n",
    "python main.py\n",
    "```\n",
    "\n",
    "でサーバーを起動します。"
   ]
  },
  {
   "cell_type": "code",
   "execution_count": null,
   "id": "e435760a",
   "metadata": {},
   "outputs": [],
   "source": [
    "from langchain.chat_models import ChatOpenAI\n",
    "from langchain.agents import load_tools, initialize_agent\n",
    "from langchain.agents import AgentType\n",
    "from langchain.tools import AIPluginTool\n",
    "from langchain.agents.mrkl import prompt"
   ]
  },
  {
   "cell_type": "code",
   "execution_count": null,
   "id": "2cc7bfb9",
   "metadata": {},
   "outputs": [],
   "source": [
    "#If Azure OpenAI\n",
    "#import os\n",
    "#os.environ[\"OPENAI_API_TYPE\"] = \"azure\"\n",
    "#os.environ[\"OPENAI_API_KEY\"] = \"<Your Azure OpenAI KEY>\"\n",
    "#os.environ[\"OPENAI_API_BASE\"] = \"https://<Your Azure OpenAI Serivce>.openai.azure.com/\""
   ]
  },
  {
   "cell_type": "code",
   "execution_count": null,
   "id": "b221c621",
   "metadata": {},
   "outputs": [],
   "source": [
    "OPENAI_API_KEY = \"<Your OpenAI Key>\""
   ]
  },
  {
   "cell_type": "markdown",
   "id": "245cd4a8",
   "metadata": {},
   "source": [
    "## Tool のロード\n",
    "ChatGPT Plugin をロードするには、AIPluginTool に登録する"
   ]
  },
  {
   "cell_type": "code",
   "execution_count": null,
   "id": "5a52e1ae",
   "metadata": {
    "scrolled": true
   },
   "outputs": [],
   "source": [
    "#llm = ChatOpenAI(model_name=\"gpt-4-0613\", temperature=0, model_kwargs={\"deployment_id\":\"gpt-4-0613\"})　# Azure OpenAI\n",
    "llm = ChatOpenAI(model_name=\"gpt-4-0613\", temperature=0)\n",
    "tools = load_tools([\"requests_all\"])\n",
    "plugin_urls = [\"http://localhost:5005/.well-known/ai-plugin.json\", \"http://localhost:5006/.well-known/ai-plugin.json\"]\n",
    "\n",
    "tools += [AIPluginTool.from_plugin_url(url) for url in plugin_urls]"
   ]
  },
  {
   "cell_type": "markdown",
   "id": "0fb48b23",
   "metadata": {},
   "source": [
    "## Agent の初期化\n",
    "\n",
    "Agent には `ZERO_SHOT_REACT_DESCRIPTION` を利用する。制約事項については SUFFIX を追加している。\n"
   ]
  },
  {
   "cell_type": "code",
   "execution_count": null,
   "id": "7f531d6b",
   "metadata": {},
   "outputs": [],
   "source": [
    "SUFFIX = \"\"\"\n",
    "'Answer should be in Japanese. Use http instead of https for endpoint.\n",
    "If there is no year in the reservation, use the year 2023. \n",
    "\"\"\"\n",
    "\n",
    "# Responsible AI MetaPrompt\n",
    "#**IMPORTANT**\n",
    "#If a restaurant reservation is available, must check with the user before making a reservation if yes.'\n",
    "\n",
    "agent_chain = initialize_agent(tools,\n",
    "                            llm,\n",
    "                            agent=AgentType.ZERO_SHOT_REACT_DESCRIPTION, verbose=True,\n",
    "                            agent_kwargs=dict(suffix=SUFFIX + prompt.SUFFIX))\n"
   ]
  },
  {
   "cell_type": "code",
   "execution_count": null,
   "id": "05529ad1",
   "metadata": {
    "scrolled": true
   },
   "outputs": [],
   "source": [
    "agent_chain.run(\"源範頼に関連するカフェ名を検索して\")"
   ]
  },
  {
   "cell_type": "code",
   "execution_count": null,
   "id": "d0dde152",
   "metadata": {
    "scrolled": true
   },
   "outputs": [],
   "source": [
    "agent_chain.run(\"源範頼に関連するカフェ名を検索して、7/1の18時に予約に空きがあるか教えて。もし空いていたら予約しておいて。\")"
   ]
  },
  {
   "cell_type": "code",
   "execution_count": null,
   "id": "dae11aa2",
   "metadata": {
    "scrolled": true
   },
   "outputs": [],
   "source": [
    "agent_chain.run(\"カフェかば殿　に7/1の18時に予約を取って。\")"
   ]
  }
 ],
 "metadata": {
  "kernelspec": {
   "display_name": "Python 3 (ipykernel)",
   "language": "python",
   "name": "python3"
  },
  "language_info": {
   "codemirror_mode": {
    "name": "ipython",
    "version": 3
   },
   "file_extension": ".py",
   "mimetype": "text/x-python",
   "name": "python",
   "nbconvert_exporter": "python",
   "pygments_lexer": "ipython3",
   "version": "3.10.11"
  }
 },
 "nbformat": 4,
 "nbformat_minor": 5
}
